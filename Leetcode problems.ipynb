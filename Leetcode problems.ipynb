{
 "cells": [
  {
   "cell_type": "markdown",
   "metadata": {},
   "source": [
    "#1365. How Many Numbers Are Smaller Than the Current Number"
   ]
  },
  {
   "cell_type": "code",
   "execution_count": 15,
   "metadata": {},
   "outputs": [],
   "source": [
    "def smallerNumbersThanCurrent(self, nums):\n",
    "    lst = []\n",
    "    for j in nums:\n",
    "        lst.append(len([i for i in nums if i <j]))\n",
    "    return(lst)"
   ]
  },
  {
   "cell_type": "markdown",
   "metadata": {},
   "source": [
    "#1351. Count Negative Numbers in a Sorted Matrix"
   ]
  },
  {
   "cell_type": "code",
   "execution_count": 20,
   "metadata": {},
   "outputs": [],
   "source": [
    "def countNegatives(self, grid):\n",
    "        \"\"\"\n",
    "        :type grid: List[List[int]]\n",
    "        :rtype: int\n",
    "        \"\"\"\n",
    "        count = 0\n",
    "        for i in grid:\n",
    "            count += len([j for j in i if j<0])\n",
    "            \n",
    "        return(count)"
   ]
  },
  {
   "cell_type": "markdown",
   "metadata": {},
   "source": [
    "#1370. Increasing Decreasing String"
   ]
  },
  {
   "cell_type": "code",
   "execution_count": 191,
   "metadata": {},
   "outputs": [],
   "source": [
    "class Solution(object):\n",
    "    def sortString(self, s):\n",
    "        \"\"\"\n",
    "        :type s: str\n",
    "        :rtype: str\n",
    "        \"\"\"\n",
    "        \n",
    "        result = ''\n",
    "        \n",
    "        while len(s) != 0:\n",
    "            uni = []\n",
    "            for i in s:\n",
    "                if i not in uni:\n",
    "                    uni.append(i)\n",
    "            uni = ''.join(uni)\n",
    "            \n",
    "            while len(uni) != 0:\n",
    "                result += min(uni)\n",
    "                s = s.replace(min(uni),\"\",1)\n",
    "                uni = uni.replace(min(uni),\"\",1)\n",
    "                \n",
    "            uni = []\n",
    "            for i in s:\n",
    "                if i not in uni:\n",
    "                    uni.append(i)\n",
    "            uni = ''.join(uni)\n",
    "            \n",
    "            while len(uni) != 0:\n",
    "                result += max(uni)\n",
    "                s = s.replace(max(uni),\"\",1)\n",
    "                uni = uni.replace(max(uni),\"\",1)\n",
    "                \n",
    "        return(result)\n"
   ]
  }
 ],
 "metadata": {
  "kernelspec": {
   "display_name": "Python 3",
   "language": "python",
   "name": "python3"
  },
  "language_info": {
   "codemirror_mode": {
    "name": "ipython",
    "version": 3
   },
   "file_extension": ".py",
   "mimetype": "text/x-python",
   "name": "python",
   "nbconvert_exporter": "python",
   "pygments_lexer": "ipython3",
   "version": "3.7.3"
  }
 },
 "nbformat": 4,
 "nbformat_minor": 2
}
